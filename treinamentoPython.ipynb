{
  "nbformat": 4,
  "nbformat_minor": 0,
  "metadata": {
    "colab": {
      "provenance": [],
      "authorship_tag": "ABX9TyMlcQoUfKkFXEBDDrzwo5Up",
      "include_colab_link": true
    },
    "kernelspec": {
      "name": "python3",
      "display_name": "Python 3"
    },
    "language_info": {
      "name": "python"
    }
  },
  "cells": [
    {
      "cell_type": "markdown",
      "metadata": {
        "id": "view-in-github",
        "colab_type": "text"
      },
      "source": [
        "<a href=\"https://colab.research.google.com/github/Emerson-Costa/reciclagem-basico-python/blob/main/treinamentoPython.ipynb\" target=\"_parent\"><img src=\"https://colab.research.google.com/assets/colab-badge.svg\" alt=\"Open In Colab\"/></a>"
      ]
    },
    {
      "cell_type": "markdown",
      "source": [
        "# Desvio Condicional, Repetição e Entrada de Dados"
      ],
      "metadata": {
        "id": "i7iTJyiM8WCJ"
      }
    },
    {
      "cell_type": "code",
      "execution_count": null,
      "metadata": {
        "colab": {
          "base_uri": "https://localhost:8080/"
        },
        "id": "DLMtFV_vrrSh",
        "outputId": "1eee2b5d-2ef2-4e57-a051-11094e257eb9",
        "collapsed": true
      },
      "outputs": [
        {
          "output_type": "stream",
          "name": "stdout",
          "text": [
            "Informe o seu nome: Emerson\n",
            "Emerson, informe a sua idade: 18\n",
            "Emerson, é maior de idade \n",
            "\n",
            "Emerson, informe a sua idade: 24\n",
            "Emerson, é maior de idade \n",
            "\n",
            "Emerson, informe a sua idade: 15\n",
            "Emerson, é menor de idade! \n",
            "\n",
            "Emerson, informe a sua idade: 0\n",
            "Emerson é um recém nascido! \n",
            "\n",
            "Emerson, informe a sua idade: -1\n",
            "Emerson, idade não pode ser valor negativo! \n",
            "\n",
            "Programa Encerrado! \n",
            "\n"
          ]
        }
      ],
      "source": [
        "nome = input('Informe o seu nome: ')\n",
        "idade = 0\n",
        "while(idade != -1):\n",
        "  idade = int(input(f\"{nome}, informe a sua idade: \")) # Conversão de valores\n",
        "  if (idade < 18 and idade > 0):\n",
        "      print(f'{nome}, é menor de idade!','\\n')\n",
        "  else:\n",
        "      if (idade >= 18):\n",
        "          print(f\"{nome}, é maior de idade\",'\\n')\n",
        "      else:\n",
        "          if (idade < 0):\n",
        "              print(f\"{nome}, idade não pode ser valor negativo!\",'\\n')\n",
        "              print(\"Programa Encerrado!\",'\\n')\n",
        "          else:\n",
        "              if (idade == 0):\n",
        "                print(f\"{nome} é um recém nascido!\",'\\n')"
      ]
    },
    {
      "cell_type": "markdown",
      "source": [
        "# Manipulação de Strings"
      ],
      "metadata": {
        "id": "2l5uQfof8OnB"
      }
    },
    {
      "cell_type": "code",
      "source": [
        "nome = \"emerson\"\n",
        "print('Tudo em Maiusculo: ', nome.upper())\n",
        "print('Tudo em Minúsculo: ', nome.lower())\n",
        "print('Escrito com a primeira letra em maiúsculo: ', nome.capitalize(),'\\n')\n",
        "\n",
        "# Capturando índices da String (Pegando a palavra 'rato')\n",
        "frase = 'O rato roeu a roupa do rei te roma.'\n",
        "print('Palavra capturada: ' + frase[2:6],'\\n')\n",
        "\n",
        "# Substituindo uma palavra na String\n",
        "print('Frase com erro ortográfico: ', frase)\n",
        "print('Frase com erro corrigido: ', frase.replace('te', 'de'),'\\n')\n",
        "\n",
        "# Buscando uma palavra'rato' na frase, retorna -1 quando não encontra a palavra\n",
        "print('A palavra está no índice', frase.find('rato'), 'da cadeia de caracteres.', '\\n')\n",
        "\n",
        "# Mostrando o tamanho da frase\n",
        "print('Tamanho da frase: ', len(frase), '\\n')\n",
        "\n",
        "# Remover espaços em branco antes e depois da palavra\n",
        "palavra = ' pizza '\n",
        "print('Tamanho da palavra considerando os espaços antes e depois: ', len(palavra))\n",
        "palavra.strip()\n",
        "print('Tamanho da palavra com a retirada dos espaços antes e depois: ', len(palavra.strip()))\n"
      ],
      "metadata": {
        "colab": {
          "base_uri": "https://localhost:8080/"
        },
        "id": "KOJ-XHEL2zQV",
        "outputId": "82ce6e05-7886-4e13-ec75-31161c1f5547",
        "collapsed": true
      },
      "execution_count": null,
      "outputs": [
        {
          "output_type": "stream",
          "name": "stdout",
          "text": [
            "Tudo em Maiusculo:  EMERSON\n",
            "Tudo em Minúsculo:  emerson\n",
            "Escrito com a primeira letra em maiúsculo:  Emerson \n",
            "\n",
            "Palavra capturada: rato \n",
            "\n",
            "Frase com erro ortográfico:  O rato roeu a roupa do rei te roma.\n",
            "Frase com erro corrigido:  O rato roeu a roupa do rei de roma. \n",
            "\n",
            "A palavra está no índice 2 da cadeia de caracteres. \n",
            "\n",
            "Tamanho da frase:  35 \n",
            "\n",
            "Tamanho da palavra considerando os espaços antes e depois:  7\n",
            "Tamanho da palavra com a retirada dos espaços antes e depois:  5\n"
          ]
        }
      ]
    },
    {
      "cell_type": "markdown",
      "source": [
        "# Operações Matemáticas"
      ],
      "metadata": {
        "id": "EpAP7FOD-JhJ"
      }
    },
    {
      "cell_type": "code",
      "source": [
        "number1 = 2\n",
        "number2 = 10\n",
        "\n",
        "print(f'Multiplicação: {number1} * {number2} = {number1 * number2}')\n",
        "print(f'Divisão: {number2} / {number1} = {number2 / number1}')\n",
        "print(f'Soma: {number1} + {number2} = {number1 + number2}')\n",
        "print(f'Subtração: {number2} - {number1} = {number2 - number1}')\n",
        "print(f'Resto da divisão: {number2} % {number1} = {number2 % number1}')\n",
        "print(f'Potência: {number2}^{number1} = {number2**number1}')\n",
        "\n",
        "#importanto a biblioteca matemática\n",
        "import math\n",
        "print(f\"A raíz quadrada de {number2} é: {math.sqrt(number2)}\")\n",
        "print(f\"O fatorial de {number2} é: {math.factorial(number2)}\\n\")\n",
        "\n",
        "#Arredondamento de dados\n",
        "casos_doenca = 134\n",
        "numero_habitantes = 34432\n",
        "casos_por_habitante = casos_doenca / numero_habitantes\n",
        "\n",
        "print(\"Resultado comum: \", casos_por_habitante)\n",
        "print(\"Resultado arredondado com seis casas decimais\", round(casos_por_habitante, 6))"
      ],
      "metadata": {
        "colab": {
          "base_uri": "https://localhost:8080/"
        },
        "id": "H65lIa_Y-OY4",
        "outputId": "c6032404-78ec-4c67-f5c7-409925ac108b",
        "collapsed": true
      },
      "execution_count": null,
      "outputs": [
        {
          "output_type": "stream",
          "name": "stdout",
          "text": [
            "Multiplicação: 2 * 10 = 20\n",
            "Divisão: 10 / 2 = 5.0\n",
            "Soma: 2 + 10 = 12\n",
            "Subtração: 10 - 2 = 8\n",
            "Resto da divisão: 10 % 2 = 0\n",
            "Potência: 10^2 = 100\n",
            "A raíz quadrada de 10 é: 3.1622776601683795\n",
            "O fatorial de 10 é: 3628800\n",
            "\n",
            "Resultado comum:  0.003891728624535316\n",
            "Resultado arredondado com seis casas decimais 0.003892\n"
          ]
        }
      ]
    },
    {
      "cell_type": "markdown",
      "source": [
        "# Operadores Lógicos"
      ],
      "metadata": {
        "id": "DjntgIQARhm7"
      }
    },
    {
      "cell_type": "code",
      "source": [
        "a = True\n",
        "b = False\n",
        "c = 17\n",
        "d = 21\n",
        "\n",
        "print(\"Valor de 'a': \", a)\n",
        "print(f\"Valor de 'b': {b}\\n\")\n",
        "\n",
        "print(a == b)\n",
        "print(a != b)\n",
        "print((a == b) == b)\n",
        "print((a == b) == a,'\\n')\n",
        "\n",
        "print(\"'a' e (and) 'b': \",a and b)\n",
        "print(\"'a' e (&) 'b': \",a & b)\n",
        "print(\"'a' ou (or) 'b': \",a or b)\n",
        "print(\"'a' ou (|) 'b': \",a | b,\"\\n\")\n",
        "\n",
        "print(\"Negação (not) em a: \", not a)\n",
        "print(\"Negação (not) em b: \", not b)\n"
      ],
      "metadata": {
        "colab": {
          "base_uri": "https://localhost:8080/"
        },
        "id": "NiN1MhfMRhNq",
        "outputId": "364ce5de-5413-47ea-b1a8-5768c4119688",
        "collapsed": true
      },
      "execution_count": null,
      "outputs": [
        {
          "output_type": "stream",
          "name": "stdout",
          "text": [
            "Valor de 'a':  True\n",
            "Valor de 'b': False\n",
            "\n",
            "False\n",
            "True\n",
            "True\n",
            "False \n",
            "\n",
            "'a' e (and) 'b':  False\n",
            "'a' e (&) 'b':  False\n",
            "'a' ou (or) 'b':  True\n",
            "'a' ou (|) 'b':  True \n",
            "\n",
            "Negação (not) em a:  False\n",
            "Negação (not) em b:  True\n"
          ]
        }
      ]
    },
    {
      "cell_type": "markdown",
      "source": [
        "# Operadores Relacionais"
      ],
      "metadata": {
        "id": "8fXXdD4ET4wx"
      }
    },
    {
      "cell_type": "code",
      "source": [
        "print(\"5 > 2?: \",5 > 2)\n",
        "\n",
        "print(\"5 < 2?: \",5 < 2)"
      ],
      "metadata": {
        "colab": {
          "base_uri": "https://localhost:8080/"
        },
        "id": "2aS4VzINT8qB",
        "outputId": "9d77100e-0c0b-42b9-c128-903e9aa62ef5",
        "collapsed": true
      },
      "execution_count": null,
      "outputs": [
        {
          "output_type": "stream",
          "name": "stdout",
          "text": [
            "5 > 2?:  True\n",
            "5 < 2?:  False\n"
          ]
        }
      ]
    },
    {
      "cell_type": "markdown",
      "source": [
        "# Laços de repetição\n"
      ],
      "metadata": {
        "id": "rAELD2MQ9Fn-"
      }
    },
    {
      "cell_type": "code",
      "source": [
        "print(\"Contador Simples\")\n",
        "for contador in range(0, 11):\n",
        "  print(contador)\n",
        "\n",
        "\n",
        "print(\"\\nContador saltando duas posições\")\n",
        "for contador in range(0, 11, 2):\n",
        "  print(contador)\n",
        "\n",
        "print(\"\\nInvertendo as posições\")\n",
        "for contador in range(11, 0, -1):\n",
        "  print(contador)\n"
      ],
      "metadata": {
        "colab": {
          "base_uri": "https://localhost:8080/"
        },
        "collapsed": true,
        "id": "NKscLnFO9JEX",
        "outputId": "496fce07-c2f1-45ba-ee1b-ba24e9968943"
      },
      "execution_count": null,
      "outputs": [
        {
          "output_type": "stream",
          "name": "stdout",
          "text": [
            "Contador Simples\n",
            "0\n",
            "1\n",
            "2\n",
            "3\n",
            "4\n",
            "5\n",
            "6\n",
            "7\n",
            "8\n",
            "9\n",
            "10\n",
            "\n",
            "Contador saltando duas posições\n",
            "0\n",
            "2\n",
            "4\n",
            "6\n",
            "8\n",
            "10\n",
            "\n",
            "Invertendo as posições\n",
            "11\n",
            "10\n",
            "9\n",
            "8\n",
            "7\n",
            "6\n",
            "5\n",
            "4\n",
            "3\n",
            "2\n",
            "1\n"
          ]
        }
      ]
    },
    {
      "cell_type": "markdown",
      "source": [
        "# Tuplas e Listas"
      ],
      "metadata": {
        "id": "OejMhn3k-bRg"
      }
    },
    {
      "cell_type": "code",
      "source": [
        "# Trabalhando com as tuplas\n",
        "animais = (\"Gato\", \"Cachorro\", \"Leão\", \"Macaco\");\n",
        "print(\"Acessando a tupla por inteiro: \", animais)\n",
        "print(\"Acessando o elemento do índice '2': \", animais[1])\n",
        "print(\"Retornando a posição do elemento 'Leão': \", animais.index(\"Leão\"))\n",
        "\n",
        "\n",
        "print(\"\\n iterando sobre cada elemento da tupla\\n\")\n",
        "for indice, animal in enumerate(animais):\n",
        "  print(f\"Índice: {indice}, Animal: {animal}\")\n",
        "\n",
        "# Trabalhando com Listas\n",
        "pessoas = [\"Jaguncio Antunes\", \"Marinalda Cadete\", \"Regina da Conceição\", \"Roberval Farias\"]\n",
        "cargos = [\"Ajudante de Pedreiro\", \"Recepcionista\", \"Auxiliar de Serviços Gerais\", \"Eletricista\"]\n",
        "print(f\"\\nPrintando a lista das pessoas: {pessoas}\")\n",
        "print(f\"\\nPrintando a lista de cargos: {cargos}\")\n",
        "print(f\"\\nConcatenando a lista de pessoas com a lista de cargos: {pessoas + cargos}\")\n",
        "print(f\"\\nMultiplicando a lista de pessoas por 2: {pessoas * 2}\")\n",
        "print(f\"\\nAcessando as duas primeiras pessoas da lista: {pessoas[0:2]}\")\n",
        "# Adicionando elementos na lista\n",
        "pessoas.append(\"Frajola\")\n",
        "print(f\"\\nAdicionando Frajola na lista das pessoas: {pessoas}\")\n",
        "# Removendo elementos da lista\n",
        "pessoas.remove(\"Jaguncio Antunes\")\n",
        "print(f\"\\nRemovendo Jaguncio Antunes da lista das pessoas: {pessoas}\")\n",
        "# iterando sobre a lista de pessoas\n",
        "print(\"\\nIterando sobre a lista de pessoas\\n\")\n",
        "for pessoa in pessoas:\n",
        "  print(pessoa)\n",
        "# Deletando a lista de cargos\n",
        "print(\"\\nDeletando a lista de cargos\\n\")\n",
        "del(cargos)\n",
        "print(cargos)"
      ],
      "metadata": {
        "colab": {
          "base_uri": "https://localhost:8080/",
          "height": 766
        },
        "id": "qgabKr1f-ed3",
        "outputId": "f07ee800-a110-49c1-d2c9-97d98efcce63"
      },
      "execution_count": null,
      "outputs": [
        {
          "output_type": "stream",
          "name": "stdout",
          "text": [
            "Acessando a tupla por inteiro:  ('Gato', 'Cachorro', 'Leão', 'Macaco')\n",
            "Acessando o elemento do índice '2':  Cachorro\n",
            "Retornando a posição do elemento 'Leão':  2\n",
            "\n",
            " iterando sobre cada elemento da tupla\n",
            "\n",
            "Índice: 0, Animal: Gato\n",
            "Índice: 1, Animal: Cachorro\n",
            "Índice: 2, Animal: Leão\n",
            "Índice: 3, Animal: Macaco\n",
            "\n",
            "Printando a lista das pessoas: ['Jaguncio Antunes', 'Marinalda Cadete', 'Regina da Conceição', 'Roberval Farias']\n",
            "\n",
            "Printando a lista de cargos: ['Ajudante de Pedreiro', 'Recepcionista', 'Auxiliar de Serviços Gerais', 'Eletricista']\n",
            "\n",
            "Concatenando a lista de pessoas com a lista de cargos: ['Jaguncio Antunes', 'Marinalda Cadete', 'Regina da Conceição', 'Roberval Farias', 'Ajudante de Pedreiro', 'Recepcionista', 'Auxiliar de Serviços Gerais', 'Eletricista']\n",
            "\n",
            "Multiplicando a lista de pessoas por 2: ['Jaguncio Antunes', 'Marinalda Cadete', 'Regina da Conceição', 'Roberval Farias', 'Jaguncio Antunes', 'Marinalda Cadete', 'Regina da Conceição', 'Roberval Farias']\n",
            "\n",
            "Acessando as duas primeiras pessoas da lista: ['Jaguncio Antunes', 'Marinalda Cadete']\n",
            "\n",
            "Adicionando Frajola na lista das pessoas: ['Jaguncio Antunes', 'Marinalda Cadete', 'Regina da Conceição', 'Roberval Farias', 'Frajola']\n",
            "\n",
            "Removendo Jaguncio Antunes da lista das pessoas: ['Marinalda Cadete', 'Regina da Conceição', 'Roberval Farias', 'Frajola']\n",
            "\n",
            "Iterando sobre a lista de pessoas\n",
            "\n",
            "Marinalda Cadete\n",
            "Regina da Conceição\n",
            "Roberval Farias\n",
            "Frajola\n",
            "\n",
            "Deletando a lista de cargos\n",
            "\n"
          ]
        },
        {
          "output_type": "error",
          "ename": "NameError",
          "evalue": "name 'cargos' is not defined",
          "traceback": [
            "\u001b[0;31m---------------------------------------------------------------------------\u001b[0m",
            "\u001b[0;31mNameError\u001b[0m                                 Traceback (most recent call last)",
            "\u001b[0;32m/tmp/ipython-input-4021115932.py\u001b[0m in \u001b[0;36m<cell line: 0>\u001b[0;34m()\u001b[0m\n\u001b[1;32m     31\u001b[0m \u001b[0mprint\u001b[0m\u001b[0;34m(\u001b[0m\u001b[0;34m\"\\nDeletando a lista de cargos\\n\"\u001b[0m\u001b[0;34m)\u001b[0m\u001b[0;34m\u001b[0m\u001b[0;34m\u001b[0m\u001b[0m\n\u001b[1;32m     32\u001b[0m \u001b[0;32mdel\u001b[0m\u001b[0;34m(\u001b[0m\u001b[0mcargos\u001b[0m\u001b[0;34m)\u001b[0m\u001b[0;34m\u001b[0m\u001b[0;34m\u001b[0m\u001b[0m\n\u001b[0;32m---> 33\u001b[0;31m \u001b[0mprint\u001b[0m\u001b[0;34m(\u001b[0m\u001b[0mcargos\u001b[0m\u001b[0;34m)\u001b[0m\u001b[0;34m\u001b[0m\u001b[0;34m\u001b[0m\u001b[0m\n\u001b[0m",
            "\u001b[0;31mNameError\u001b[0m: name 'cargos' is not defined"
          ]
        }
      ]
    },
    {
      "cell_type": "markdown",
      "source": [
        "# Dicionários e Conjuntos"
      ],
      "metadata": {
        "id": "Pc0GeYhPL1lO"
      }
    },
    {
      "cell_type": "code",
      "source": [
        "# Chave: Setor\n",
        "# Valor: quantidade de funcionários por setor\n",
        "empresa = {'Entregas': 20, 'Gerente': 7, 'Vendas': 50, 'RH': 10 }\n",
        "print(f\"Setores e quantidades de funcinários por setor de uma empresa x: {empresa}\")\n",
        "print(f\"A quantidade de funcionários no setor de 'Entregas' é: {empresa['Entregas']}\")\n",
        "# Setor de vendas foi removido do dicionário\n",
        "del(empresa)['Vendas']\n",
        "print(\"\\nO setor de vendas foi removido do dicionário\")\n",
        "print(f\"Setores e quantidades de funcinários por setor de uma empresa x: {empresa.items()}\\n\")\n",
        "# Exibindo somente as chaves sem os seus valores\n",
        "print(empresa.keys())\n",
        "# Exibindo somente os valores das chaves\n",
        "print(empresa.values())\n",
        "# Criando novos dados para empresa\n",
        "novos_setores = {\"alimentacao\": 10, \"limpesa\": 100}\n",
        "# Agrupando os novos setores na empresa\n",
        "empresa.update(novos_setores)\n",
        "print(f\"\\nInclusão de novos setores de uma empresa x: {empresa}\")\n",
        "# Criado um laço para percorrer o dicionário empresa\n",
        "print(\"\\nPercorrendo os valores do dicionário empresa\\n\")\n",
        "for chave, valor in empresa.items():\n",
        "  print(f\"Chave (setor): {chave} - Valor (Quantidade de funcionários): {valor}\")"
      ],
      "metadata": {
        "colab": {
          "base_uri": "https://localhost:8080/"
        },
        "id": "XCYEVyMAVOlC",
        "outputId": "67bc3471-d2f2-456b-db81-50a5c0936235"
      },
      "execution_count": 6,
      "outputs": [
        {
          "output_type": "stream",
          "name": "stdout",
          "text": [
            "Setores e quantidades de funcinários por setor de uma empresa x: {'Entregas': 20, 'Gerente': 7, 'Vendas': 50, 'RH': 10}\n",
            "A quantidade de funcionários no setor de 'Entregas' é: 20\n",
            "\n",
            "O setor de vendas foi removido do dicionário\n",
            "Setores e quantidades de funcinários por setor de uma empresa x: dict_items([('Entregas', 20), ('Gerente', 7), ('RH', 10)])\n",
            "\n",
            "dict_keys(['Entregas', 'Gerente', 'RH'])\n",
            "dict_values([20, 7, 10])\n",
            "\n",
            "Inclusão de novos setores de uma empresa x: {'Entregas': 20, 'Gerente': 7, 'RH': 10, 'alimentacao': 10, 'limpesa': 100}\n",
            "\n",
            "Percorrendo os valores do dicionário empresa\n",
            "\n",
            "Chave (setor): Entregas - Valor (Quantidade de funcionários): 20\n",
            "Chave (setor): Gerente - Valor (Quantidade de funcionários): 7\n",
            "Chave (setor): RH - Valor (Quantidade de funcionários): 10\n",
            "Chave (setor): alimentacao - Valor (Quantidade de funcionários): 10\n",
            "Chave (setor): limpesa - Valor (Quantidade de funcionários): 100\n"
          ]
        }
      ]
    },
    {
      "cell_type": "markdown",
      "source": [
        "# Conjuntos"
      ],
      "metadata": {
        "id": "6nWVVSUyJDJb"
      }
    },
    {
      "cell_type": "code",
      "source": [
        "# Criando m conjunto de nomes\n",
        "nomes = (\"Emerson\", \"Karina\", \"Alan\", \"Andé\", \"Karina\", \"Emerson\")\n",
        "print(f\"Tuplas com os nomes: {nomes}\\n\")\n",
        "print(f\"Conjunto com os nomes sem repetição: {set(nomes)}\\n\")\n",
        "# Criando dois conjuntos numéricos\n",
        "conjunto1 = {1, 2, 5, 8}\n",
        "conjunto2 = {1, 7, 8, 9}\n",
        "print(f\"Conjunto 1: {conjunto1}, Cojunto 2: {conjunto2}\\n\")\n",
        "print(f\"Inteseção entre o conjunto 1 e conjunto 2: {conjunto1.intersection(conjunto2)}\")\n",
        "print(f\"União entre o conjunto 1 e conjunto 2: {conjunto1.union(conjunto2)}\");\n",
        "print(f\"Diferença entre o conjunto 1 e conjunto 2: {conjunto1.difference(conjunto2)}\")\n",
        "print(f\"Diferença entre o conjunto 2 e conjunto 1: {conjunto2.difference(conjunto1)}\")"
      ],
      "metadata": {
        "colab": {
          "base_uri": "https://localhost:8080/"
        },
        "id": "HrUqRdtsJH1_",
        "outputId": "5c347f05-fdbf-4c80-f72f-0485c83e0bc8"
      },
      "execution_count": 13,
      "outputs": [
        {
          "output_type": "stream",
          "name": "stdout",
          "text": [
            "Tuplas com os nomes: ('Emerson', 'Karina', 'Alan', 'Andé', 'Karina', 'Emerson')\n",
            "\n",
            "Conjunto com os nomes sem repetição: {'Andé', 'Karina', 'Alan', 'Emerson'}\n",
            "\n",
            "Conjunto 1: {8, 1, 2, 5}, Cojunto 2: {8, 1, 9, 7}\n",
            "\n",
            "Inteseção entre o conjunto 1 e conjunto 2: {8, 1}\n",
            "União entre o conjunto 1 e conjunto 2: {1, 2, 5, 7, 8, 9}\n",
            "Diferença entre o conjunto 1 e conjunto 2: {2, 5}\n",
            "Diferença entre o conjunto 2 e conjunto 1: {9, 7}\n"
          ]
        }
      ]
    }
  ]
}